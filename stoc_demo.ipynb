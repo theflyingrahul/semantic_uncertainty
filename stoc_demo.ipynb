{
 "cells": [
  {
   "cell_type": "markdown",
   "id": "b3d60b2a",
   "metadata": {},
   "source": [
    "# Import libs"
   ]
  },
  {
   "cell_type": "code",
   "execution_count": 1,
   "id": "3732d3dc",
   "metadata": {},
   "outputs": [],
   "source": [
    "from transformers import AutoTokenizer, AutoModelForCausalLM, pipeline\n",
    "import torch"
   ]
  },
  {
   "cell_type": "markdown",
   "id": "e2095268",
   "metadata": {},
   "source": [
    "# Load LLaMA 3.2 3B Instruct model and tokenizer"
   ]
  },
  {
   "cell_type": "code",
   "execution_count": 2,
   "id": "0ef5cddd",
   "metadata": {},
   "outputs": [
    {
     "data": {
      "application/vnd.jupyter.widget-view+json": {
       "model_id": "85e8e7534074461b9d646dfb06591ab9",
       "version_major": 2,
       "version_minor": 0
      },
      "text/plain": [
       "Loading checkpoint shards:   0%|          | 0/2 [00:00<?, ?it/s]"
      ]
     },
     "metadata": {},
     "output_type": "display_data"
    }
   ],
   "source": [
    "model_id = \"meta-llama/Llama-3.2-3B-Instruct\"  # Update if using different repo\n",
    "\n",
    "tokenizer = AutoTokenizer.from_pretrained(model_id)\n",
    "model = AutoModelForCausalLM.from_pretrained(model_id, torch_dtype=torch.float16).to(device=\"cuda\")"
   ]
  },
  {
   "cell_type": "markdown",
   "id": "79b6a76e",
   "metadata": {},
   "source": [
    "# Set mode to text generation pipeline"
   ]
  },
  {
   "cell_type": "code",
   "execution_count": 3,
   "id": "6d6f8d2d",
   "metadata": {},
   "outputs": [
    {
     "name": "stderr",
     "output_type": "stream",
     "text": [
      "Device set to use cuda:0\n"
     ]
    }
   ],
   "source": [
    "generator = pipeline(\"text-generation\", model=model, tokenizer=tokenizer)"
   ]
  },
  {
   "cell_type": "markdown",
   "id": "cd9fa9ac",
   "metadata": {},
   "source": [
    "# Define stochasticity settings"
   ]
  },
  {
   "cell_type": "code",
   "execution_count": 6,
   "id": "52a63da7",
   "metadata": {},
   "outputs": [],
   "source": [
    "kwargs = {\"temperature\": 0.1, \"top_k\": 10, \"top_p\": 0.9, \"do_sample\": True}\n",
    "\n",
    "# Number of samples to generate\n",
    "num_samples = 10\n",
    "max_tokens = 40"
   ]
  },
  {
   "cell_type": "markdown",
   "id": "f5f451b0",
   "metadata": {},
   "source": [
    "# Get user prompt and run"
   ]
  },
  {
   "cell_type": "code",
   "execution_count": 7,
   "id": "b1ecdbf2",
   "metadata": {},
   "outputs": [
    {
     "name": "stderr",
     "output_type": "stream",
     "text": [
      "You seem to be using the pipelines sequentially on GPU. In order to maximize efficiency please use a dataset\n"
     ]
    },
    {
     "name": "stdout",
     "output_type": "stream",
     "text": [
      "\n",
      "Sample 0: Anakin Skywalker's lightsaber crystal is a key component in the construction of a lightsaber. The crystal is attuned to the user's energy and is the heart of the lightsaber's power. In the Star\n",
      "\n",
      "Sample 1: Anakin Skywalker's lightsaber crystal is a key component in the construction of a lightsaber. The crystal is attuned to the user's energy and is the heart of the lightsaber's power. In the Star\n",
      "\n",
      "Sample 2: Anakin Skywalker's fate is sealed\n",
      "The Clone Wars rage on, and Anakin Skywalker, the Chosen One, is struggling with the moral implications of his actions. As he becomes increasingly disillusioned with the Jedi\n",
      "\n",
      "Sample 3: Anakin Skywalker's fate is sealed\n",
      "The Clone Wars rage on, and Anakin Skywalker, the Chosen One, is struggling with the moral implications of his actions. As he becomes increasingly disillusioned with the Jedi\n",
      "\n",
      "Sample 4: Anakin Skywalker's lightsaber crystal is a powerful and highly sought-after artifact in the Star Wars universe. The crystal is a key component of a lightsaber, and its unique properties make it highly valuable to the Jedi\n",
      "\n",
      "Sample 5: Anakin Skywalker's fate is sealed\n",
      "The Clone Wars rage on, and Anakin Skywalker, the Chosen One, is struggling with the moral implications of his actions. As he becomes increasingly disillusioned with the Jedi\n",
      "\n",
      "Sample 6: Anakin Skywalker's fate is sealed as he succumbs to the dark side of the Force. The galaxy is plunged into darkness as the Jedi Order is all but destroyed. The Republic is on the brink of collapse,\n",
      "\n",
      "Sample 7: Anakin Skywalker's fate is sealed\n",
      "The Clone Wars rage on, and Anakin Skywalker, the Chosen One, is struggling with the moral implications of his actions. As he becomes increasingly disillusioned with the Jedi\n",
      "\n",
      "Sample 8: Anakin Skywalker's lightsaber crystal is a powerful and rare crystal that is capable of channeling the user's energy and emotions into a powerful blade of light. The crystal is a key component of a lightsaber,\n",
      "\n",
      "Sample 9: Anakin Skywalker's fate is sealed as he succumbs to the dark side of the Force. The galaxy is plunged into darkness as the Chosen One becomes the Chosen One's greatest enemy.\n",
      "The Clone Wars rage\n"
     ]
    }
   ],
   "source": [
    "prompt = \"Anakin Skywalker\"\n",
    "\n",
    "\n",
    "for i in range(num_samples):  # Generate 10 outputs\n",
    "    output = generator(prompt, max_new_tokens=max_tokens, **kwargs, pad_token_id=tokenizer.eos_token_id)[0]\n",
    "    print(f\"\\nSample {i}: {output['generated_text'].strip()}\")\n"
   ]
  },
  {
   "cell_type": "code",
   "execution_count": null,
   "id": "8de5d94c",
   "metadata": {},
   "outputs": [],
   "source": []
  }
 ],
 "metadata": {
  "kernelspec": {
   "display_name": "semantic_uncertainty",
   "language": "python",
   "name": "python3"
  },
  "language_info": {
   "codemirror_mode": {
    "name": "ipython",
    "version": 3
   },
   "file_extension": ".py",
   "mimetype": "text/x-python",
   "name": "python",
   "nbconvert_exporter": "python",
   "pygments_lexer": "ipython3",
   "version": "3.11.11"
  }
 },
 "nbformat": 4,
 "nbformat_minor": 5
}
