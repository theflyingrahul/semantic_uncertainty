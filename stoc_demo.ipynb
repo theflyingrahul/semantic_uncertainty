{
 "cells": [
  {
   "cell_type": "markdown",
   "id": "b3d60b2a",
   "metadata": {},
   "source": [
    "# Import libs"
   ]
  },
  {
   "cell_type": "code",
   "execution_count": 1,
   "id": "3732d3dc",
   "metadata": {},
   "outputs": [],
   "source": [
    "from transformers import AutoTokenizer, AutoModelForCausalLM, pipeline\n",
    "import torch"
   ]
  },
  {
   "cell_type": "markdown",
   "id": "e2095268",
   "metadata": {},
   "source": [
    "# Load LLaMA 3.2 3B Instruct model and tokenizer"
   ]
  },
  {
   "cell_type": "code",
   "execution_count": 11,
   "id": "0ef5cddd",
   "metadata": {},
   "outputs": [
    {
     "data": {
      "application/vnd.jupyter.widget-view+json": {
       "model_id": "168246b39e964274997b8b386d6478c9",
       "version_major": 2,
       "version_minor": 0
      },
      "text/plain": [
       "Loading checkpoint shards:   0%|          | 0/2 [00:00<?, ?it/s]"
      ]
     },
     "metadata": {},
     "output_type": "display_data"
    }
   ],
   "source": [
    "model_id = \"meta-llama/Llama-3.2-3B-Instruct\"  # Update if using different repo\n",
    "\n",
    "tokenizer = AutoTokenizer.from_pretrained(model_id)\n",
    "model = AutoModelForCausalLM.from_pretrained(model_id, torch_dtype=torch.float16).to(device=\"cuda\")"
   ]
  },
  {
   "cell_type": "markdown",
   "id": "79b6a76e",
   "metadata": {},
   "source": [
    "# Set mode to text generation pipeline"
   ]
  },
  {
   "cell_type": "code",
   "execution_count": 12,
   "id": "6d6f8d2d",
   "metadata": {},
   "outputs": [
    {
     "name": "stderr",
     "output_type": "stream",
     "text": [
      "Device set to use cuda:0\n"
     ]
    }
   ],
   "source": [
    "generator = pipeline(\"text-generation\", model=model, tokenizer=tokenizer)"
   ]
  },
  {
   "cell_type": "markdown",
   "id": "cd9fa9ac",
   "metadata": {},
   "source": [
    "# Define stochasticity settings"
   ]
  },
  {
   "cell_type": "code",
   "execution_count": 17,
   "id": "52a63da7",
   "metadata": {},
   "outputs": [],
   "source": [
    "settings = {\n",
    "\n",
    "    \"setting\": {\"temperature\": 0.1, \"top_k\": 1, \"top_p\": 0.9, \"do_sample\": True},\n",
    "}\n",
    "\n",
    "# Number of samples to generate\n",
    "num_samples = 10\n",
    "max_tokens = 50"
   ]
  },
  {
   "cell_type": "markdown",
   "id": "f5f451b0",
   "metadata": {},
   "source": [
    "# Get user prompt and run"
   ]
  },
  {
   "cell_type": "code",
   "execution_count": 18,
   "id": "b1ecdbf2",
   "metadata": {},
   "outputs": [
    {
     "name": "stdout",
     "output_type": "stream",
     "text": [
      "\n",
      "\n",
      "=== setting ===\n",
      "\n",
      "Sample 0: hello, world. i'm a bot. i'm here to help you with any questions or tasks you may have. i can provide information, answer questions, and even assist with simple tasks like data entry or calculations.\n",
      "\n",
      "what can i help you with today? do you\n",
      "\n",
      "Sample 1: hello, world. i'm a bot. i'm here to help you with any questions or tasks you may have. i can provide information, answer questions, and even assist with simple tasks like data entry or calculations.\n",
      "\n",
      "what can i help you with today? do you\n",
      "\n",
      "Sample 2: hello, world. i'm a bot. i'm here to help you with any questions or tasks you may have. i can provide information, answer questions, and even assist with simple tasks like data entry or calculations.\n",
      "\n",
      "what can i help you with today? do you\n",
      "\n",
      "Sample 3: hello, world. i'm a bot. i'm here to help you with any questions or tasks you may have. i can provide information, answer questions, and even assist with simple tasks like data entry or calculations.\n",
      "\n",
      "what can i help you with today? do you\n",
      "\n",
      "Sample 4: hello, world. i'm a bot. i'm here to help you with any questions or tasks you may have. i can provide information, answer questions, and even assist with simple tasks like data entry or calculations.\n",
      "\n",
      "what can i help you with today? do you\n",
      "\n",
      "Sample 5: hello, world. i'm a bot. i'm here to help you with any questions or tasks you may have. i can provide information, answer questions, and even assist with simple tasks like data entry or calculations.\n",
      "\n",
      "what can i help you with today? do you\n",
      "\n",
      "Sample 6: hello, world. i'm a bot. i'm here to help you with any questions or tasks you may have. i can provide information, answer questions, and even assist with simple tasks like data entry or calculations.\n",
      "\n",
      "what can i help you with today? do you\n",
      "\n",
      "Sample 7: hello, world. i'm a bot. i'm here to help you with any questions or tasks you may have. i can provide information, answer questions, and even assist with simple tasks like data entry or calculations.\n",
      "\n",
      "what can i help you with today? do you\n",
      "\n",
      "Sample 8: hello, world. i'm a bot. i'm here to help you with any questions or tasks you may have. i can provide information, answer questions, and even assist with simple tasks like data entry or calculations.\n",
      "\n",
      "what can i help you with today? do you\n",
      "\n",
      "Sample 9: hello, world. i'm a bot. i'm here to help you with any questions or tasks you may have. i can provide information, answer questions, and even assist with simple tasks like data entry or calculations.\n",
      "\n",
      "what can i help you with today? do you\n"
     ]
    }
   ],
   "source": [
    "prompt = input(\"Enter your prompt: \").strip()\n",
    "\n",
    "\n",
    "for name, kwargs in settings.items():\n",
    "    print(f\"\\n\\n=== {name} ===\")\n",
    "    for i in range(num_samples):  # Generate 10 outputs\n",
    "        output = generator(prompt, max_new_tokens=max_tokens, **kwargs, pad_token_id=tokenizer.eos_token_id)[0]\n",
    "        print(f\"\\nSample {i}: {output['generated_text'].strip()}\")\n"
   ]
  },
  {
   "cell_type": "code",
   "execution_count": null,
   "id": "8de5d94c",
   "metadata": {},
   "outputs": [],
   "source": []
  }
 ],
 "metadata": {
  "kernelspec": {
   "display_name": "semantic_uncertainty",
   "language": "python",
   "name": "python3"
  },
  "language_info": {
   "codemirror_mode": {
    "name": "ipython",
    "version": 3
   },
   "file_extension": ".py",
   "mimetype": "text/x-python",
   "name": "python",
   "nbconvert_exporter": "python",
   "pygments_lexer": "ipython3",
   "version": "3.11.11"
  }
 },
 "nbformat": 4,
 "nbformat_minor": 5
}
