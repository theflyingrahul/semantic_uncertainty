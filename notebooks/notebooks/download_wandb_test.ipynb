{
 "cells": [
  {
   "cell_type": "code",
   "execution_count": 3,
   "id": "b6806725",
   "metadata": {},
   "outputs": [
    {
     "name": "stdout",
     "output_type": "stream",
     "text": [
      "Listing all files in run:\n",
      "artifact/1681381309/wandb_manifest.json\n",
      "config.yaml\n",
      "output.log\n",
      "rahul/uncertainty/wandb/run-20250423_010906-d01zakoy/files/entailment_cache.pkl\n",
      "rahul/uncertainty/wandb/run-20250423_010906-d01zakoy/files/experiment_details.pkl\n",
      "rahul/uncertainty/wandb/run-20250423_010906-d01zakoy/files/train_generations.pkl\n",
      "rahul/uncertainty/wandb/run-20250423_010906-d01zakoy/files/uncertainty_measures.pkl\n",
      "rahul/uncertainty/wandb/run-20250423_010906-d01zakoy/files/validation_generations.pkl\n",
      "requirements.txt\n",
      "wandb-metadata.json\n",
      "wandb-summary.json\n",
      "Downloaded: rahul/uncertainty/wandb/run-20250423_010906-d01zakoy/files/train_generations.pkl\n"
     ]
    }
   ],
   "source": [
    "import wandb\n",
    "\n",
    "# theflyingrahul-indian-institute-of-management-bangalore/semantic_uncertainty/runs/d01zakoy/\n",
    "\n",
    "# Set your details\n",
    "entity = \"theflyingrahul-indian-institute-of-management-bangalore\"            # username or team\n",
    "project = \"semantic_uncertainty\"          # project name\n",
    "run_id = \"d01zakoy\"            # e.g., \"sddy15no\"\n",
    "target_filename = \"files/train_generations.pkl\"  # correct relative path inside the run\n",
    "\n",
    "# Initialize W&B API\n",
    "api = wandb.Api()\n",
    "\n",
    "# Get the run\n",
    "run = api.run(f\"{entity}/{project}/{run_id}\")\n",
    "\n",
    "# List all files to verify paths\n",
    "print(\"Listing all files in run:\")\n",
    "for file in run.files():\n",
    "    print(file.name)\n",
    "\n",
    "# Try to find and download the file\n",
    "for file in run.files():\n",
    "    if file.name.endswith(target_filename):\n",
    "        file.download(replace=True)\n",
    "        print(f\"Downloaded: {file.name}\")\n",
    "        break\n",
    "else:\n",
    "    print(f\"File {target_filename} not found in run {run_id}\")\n"
   ]
  }
 ],
 "metadata": {
  "kernelspec": {
   "display_name": "semantic_uncertainty",
   "language": "python",
   "name": "python3"
  },
  "language_info": {
   "codemirror_mode": {
    "name": "ipython",
    "version": 3
   },
   "file_extension": ".py",
   "mimetype": "text/x-python",
   "name": "python",
   "nbconvert_exporter": "python",
   "pygments_lexer": "ipython3",
   "version": "3.11.11"
  }
 },
 "nbformat": 4,
 "nbformat_minor": 5
}
