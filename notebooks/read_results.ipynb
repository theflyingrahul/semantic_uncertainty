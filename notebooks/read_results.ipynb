{
 "cells": [
  {
   "cell_type": "markdown",
   "id": "cadc5e95",
   "metadata": {},
   "source": [
    "### The results are stored in the .pkl located in the wandb run directory. We need to undump this to look into the individual entropies of each semantic class"
   ]
  },
  {
   "cell_type": "code",
   "execution_count": 1,
   "id": "ab995252",
   "metadata": {},
   "outputs": [],
   "source": [
    "# Fill in the wandb_id assigned to your demo run!\n",
    "\n",
    "wandb_id = 'd01zakoy'\n",
    "if wandb_id == 'YOUR_ID':\n",
    "    raise ValueError('Need to provide wandb_id of demo run!')"
   ]
  },
  {
   "cell_type": "code",
   "execution_count": 2,
   "id": "bafce3b9",
   "metadata": {},
   "outputs": [],
   "source": [
    "%load_ext autoreload\n",
    "%autoreload 2\n",
    "\n",
    "import os\n",
    "import json\n",
    "import wandb\n",
    "import pandas as pd\n",
    "from matplotlib import pyplot as plt"
   ]
  },
  {
   "cell_type": "code",
   "execution_count": 3,
   "id": "e8f3ad91",
   "metadata": {},
   "outputs": [],
   "source": [
    "# Helper Functions\n",
    "def restore_file(wandb_id, filename='wandb-summary.json'):\n",
    "    files_dir = 'notebooks/restored_files'    \n",
    "    os.system(f'mkdir -p {files_dir}')\n",
    "\n",
    "    api = wandb.Api()\n",
    "    run = api.run(f'semantic_uncertainty/{wandb_id}')\n",
    "\n",
    "    path = f'{files_dir}/{filename}'\n",
    "    os.system(f'rm -rf {path}')\n",
    "    run.file(filename).download(root=files_dir, replace=True, exist_ok=False)\n",
    "    with open(path, 'r') as f:\n",
    "        out = json.load(f)\n",
    "    return out"
   ]
  },
  {
   "cell_type": "markdown",
   "id": "b40ecdb5",
   "metadata": {},
   "source": [
    "### come back and implement this later. For now, manually download uncertainty_measures.pkl from the wandb run instance and dissect it."
   ]
  },
  {
   "cell_type": "code",
   "execution_count": null,
   "id": "819d0b59",
   "metadata": {},
   "outputs": [],
   "source": [
    "results = restore_file(wandb_id, 'uncertainty_measures.pkl')"
   ]
  },
  {
   "cell_type": "code",
   "execution_count": 10,
   "id": "f3c767e0",
   "metadata": {},
   "outputs": [
    {
     "name": "stdout",
     "output_type": "stream",
     "text": [
      "<class 'dict'>\n"
     ]
    }
   ],
   "source": [
    "import pickle\n",
    "\n",
    "# Load the contents of a pkl file into a dictionary\n",
    "with open('uncertainty_measures.pkl', 'rb') as file:\n",
    "    data = pickle.load(file)\n",
    "\n",
    "# Print the loaded dictionary\n",
    "print(type(data))"
   ]
  },
  {
   "cell_type": "code",
   "execution_count": null,
   "id": "a5d4229e",
   "metadata": {},
   "outputs": [
    {
     "data": {
      "text/plain": [
       "399"
      ]
     },
     "execution_count": 16,
     "metadata": {},
     "output_type": "execute_result"
    }
   ],
   "source": [
    "len(data['uncertainty_measures']['cluster_assignment_entropy'])"
   ]
  },
  {
   "cell_type": "code",
   "execution_count": 17,
   "id": "07ae22e4",
   "metadata": {},
   "outputs": [
    {
     "data": {
      "text/plain": [
       "399"
      ]
     },
     "execution_count": 17,
     "metadata": {},
     "output_type": "execute_result"
    }
   ],
   "source": [
    "len(data['uncertainty_measures']['regular_entropy'])"
   ]
  },
  {
   "cell_type": "markdown",
   "id": "8aff412e",
   "metadata": {},
   "source": [
    "### For some reason, we see only 399 entropies, while there were 400 data points sampled. Where is the missing one? Check with other pkl files too."
   ]
  },
  {
   "cell_type": "markdown",
   "id": "eb149c1c",
   "metadata": {},
   "source": []
  }
 ],
 "metadata": {
  "kernelspec": {
   "display_name": "semantic_uncertainty",
   "language": "python",
   "name": "python3"
  },
  "language_info": {
   "codemirror_mode": {
    "name": "ipython",
    "version": 3
   },
   "file_extension": ".py",
   "mimetype": "text/x-python",
   "name": "python",
   "nbconvert_exporter": "python",
   "pygments_lexer": "ipython3",
   "version": "3.11.11"
  }
 },
 "nbformat": 4,
 "nbformat_minor": 5
}
